{
 "cells": [
  {
   "cell_type": "markdown",
   "metadata": {},
   "source": [
    "# Logistic Regression in Healthcare"
   ]
  },
  {
   "cell_type": "markdown",
   "metadata": {},
   "source": [
    "## Package Imports"
   ]
  },
  {
   "cell_type": "code",
   "execution_count": 1,
   "metadata": {},
   "outputs": [],
   "source": [
    "import pandas as pd  \n",
    "import numpy as np  \n",
    "import seaborn as sns\n",
    "import matplotlib.pyplot as plt  \n",
    "%matplotlib inline"
   ]
  },
  {
   "cell_type": "code",
   "execution_count": 2,
   "metadata": {},
   "outputs": [],
   "source": [
    "from sklearn_pandas import DataFrameMapper\n",
    "from sklearn import metrics, datasets, linear_model\n",
    "from sklearn.preprocessing import StandardScaler\n",
    "from sklearn.linear_model import LogisticRegression\n",
    "from sklearn.model_selection import train_test_split \n",
    "from sklearn.metrics import classification_report, confusion_matrix"
   ]
  },
  {
   "cell_type": "markdown",
   "metadata": {},
   "source": [
    "## Path to the dataset"
   ]
  },
  {
   "cell_type": "markdown",
   "metadata": {},
   "source": [
    "Link to the dataset : https://archive.ics.uci.edu/ml/datasets/Breast+Cancer+Wisconsin+(Prognostic)"
   ]
  },
  {
   "cell_type": "code",
   "execution_count": 3,
   "metadata": {},
   "outputs": [],
   "source": [
    "dataset_path = \"./data/wpbc.data\""
   ]
  },
  {
   "cell_type": "markdown",
   "metadata": {},
   "source": [
    "### Attributes present in the dataset"
   ]
  },
  {
   "cell_type": "code",
   "execution_count": 4,
   "metadata": {},
   "outputs": [],
   "source": [
    "column_names = ['ID','Outcome','Time', 'Radius Mean', 'Texture Mean', 'Perimeter Mean',\n",
    "       'Area Mean', 'Smoothness Mean', 'Compactness Mean', 'Concavity Mean',\n",
    "       'Concave Points Mean', 'Symmetry Mean', 'Fractal Dimension Mean',\n",
    "       'Radius SE', 'Texture SE', 'Perimeter SE', 'Area SE', 'Smoothness SE',\n",
    "       'Compactness SE', 'Concavity SE', 'Concave Points SE', 'Symmetry SE',\n",
    "       'Fractal Dimension SE', 'Radius Worst', 'Texture Worst',\n",
    "       'Perimeter Worst', 'Area Worst', 'Smoothness Worst',\n",
    "       'Compactness Worst', 'Concavity Worst', 'Concave Points Worst',\n",
    "       'Symmetry Worst', 'Fractal Dimension Worst', 'Tumor Size', 'Lymph Node Status']"
   ]
  },
  {
   "cell_type": "markdown",
   "metadata": {},
   "source": [
    "Reading the data into a **Pandas Dataframe**"
   ]
  },
  {
   "cell_type": "code",
   "execution_count": 5,
   "metadata": {},
   "outputs": [],
   "source": [
    "raw_dataset = pd.read_csv(dataset_path, names=column_names,\n",
    "                      na_values = \"?\", sep=\",\")\n",
    "\n",
    "dataset = raw_dataset.copy()"
   ]
  },
  {
   "cell_type": "markdown",
   "metadata": {},
   "source": [
    "This is how the data looks like after loading it onto a Pandas Dataframe"
   ]
  },
  {
   "cell_type": "code",
   "execution_count": 6,
   "metadata": {},
   "outputs": [
    {
     "data": {
      "text/html": [
       "<div>\n",
       "<style scoped>\n",
       "    .dataframe tbody tr th:only-of-type {\n",
       "        vertical-align: middle;\n",
       "    }\n",
       "\n",
       "    .dataframe tbody tr th {\n",
       "        vertical-align: top;\n",
       "    }\n",
       "\n",
       "    .dataframe thead th {\n",
       "        text-align: right;\n",
       "    }\n",
       "</style>\n",
       "<table border=\"1\" class=\"dataframe\">\n",
       "  <thead>\n",
       "    <tr style=\"text-align: right;\">\n",
       "      <th></th>\n",
       "      <th>ID</th>\n",
       "      <th>Outcome</th>\n",
       "      <th>Time</th>\n",
       "      <th>Radius Mean</th>\n",
       "      <th>Texture Mean</th>\n",
       "      <th>Perimeter Mean</th>\n",
       "      <th>Area Mean</th>\n",
       "      <th>Smoothness Mean</th>\n",
       "      <th>Compactness Mean</th>\n",
       "      <th>Concavity Mean</th>\n",
       "      <th>...</th>\n",
       "      <th>Perimeter Worst</th>\n",
       "      <th>Area Worst</th>\n",
       "      <th>Smoothness Worst</th>\n",
       "      <th>Compactness Worst</th>\n",
       "      <th>Concavity Worst</th>\n",
       "      <th>Concave Points Worst</th>\n",
       "      <th>Symmetry Worst</th>\n",
       "      <th>Fractal Dimension Worst</th>\n",
       "      <th>Tumor Size</th>\n",
       "      <th>Lymph Node Status</th>\n",
       "    </tr>\n",
       "  </thead>\n",
       "  <tbody>\n",
       "    <tr>\n",
       "      <th>0</th>\n",
       "      <td>119513</td>\n",
       "      <td>N</td>\n",
       "      <td>31</td>\n",
       "      <td>18.02</td>\n",
       "      <td>27.60</td>\n",
       "      <td>117.50</td>\n",
       "      <td>1013.0</td>\n",
       "      <td>0.09489</td>\n",
       "      <td>0.1036</td>\n",
       "      <td>0.1086</td>\n",
       "      <td>...</td>\n",
       "      <td>139.70</td>\n",
       "      <td>1436.0</td>\n",
       "      <td>0.1195</td>\n",
       "      <td>0.1926</td>\n",
       "      <td>0.3140</td>\n",
       "      <td>0.1170</td>\n",
       "      <td>0.2677</td>\n",
       "      <td>0.08113</td>\n",
       "      <td>5.0</td>\n",
       "      <td>5.0</td>\n",
       "    </tr>\n",
       "    <tr>\n",
       "      <th>1</th>\n",
       "      <td>8423</td>\n",
       "      <td>N</td>\n",
       "      <td>61</td>\n",
       "      <td>17.99</td>\n",
       "      <td>10.38</td>\n",
       "      <td>122.80</td>\n",
       "      <td>1001.0</td>\n",
       "      <td>0.11840</td>\n",
       "      <td>0.2776</td>\n",
       "      <td>0.3001</td>\n",
       "      <td>...</td>\n",
       "      <td>184.60</td>\n",
       "      <td>2019.0</td>\n",
       "      <td>0.1622</td>\n",
       "      <td>0.6656</td>\n",
       "      <td>0.7119</td>\n",
       "      <td>0.2654</td>\n",
       "      <td>0.4601</td>\n",
       "      <td>0.11890</td>\n",
       "      <td>3.0</td>\n",
       "      <td>2.0</td>\n",
       "    </tr>\n",
       "    <tr>\n",
       "      <th>2</th>\n",
       "      <td>842517</td>\n",
       "      <td>N</td>\n",
       "      <td>116</td>\n",
       "      <td>21.37</td>\n",
       "      <td>17.44</td>\n",
       "      <td>137.50</td>\n",
       "      <td>1373.0</td>\n",
       "      <td>0.08836</td>\n",
       "      <td>0.1189</td>\n",
       "      <td>0.1255</td>\n",
       "      <td>...</td>\n",
       "      <td>159.10</td>\n",
       "      <td>1949.0</td>\n",
       "      <td>0.1188</td>\n",
       "      <td>0.3449</td>\n",
       "      <td>0.3414</td>\n",
       "      <td>0.2032</td>\n",
       "      <td>0.4334</td>\n",
       "      <td>0.09067</td>\n",
       "      <td>2.5</td>\n",
       "      <td>0.0</td>\n",
       "    </tr>\n",
       "    <tr>\n",
       "      <th>3</th>\n",
       "      <td>843483</td>\n",
       "      <td>N</td>\n",
       "      <td>123</td>\n",
       "      <td>11.42</td>\n",
       "      <td>20.38</td>\n",
       "      <td>77.58</td>\n",
       "      <td>386.1</td>\n",
       "      <td>0.14250</td>\n",
       "      <td>0.2839</td>\n",
       "      <td>0.2414</td>\n",
       "      <td>...</td>\n",
       "      <td>98.87</td>\n",
       "      <td>567.7</td>\n",
       "      <td>0.2098</td>\n",
       "      <td>0.8663</td>\n",
       "      <td>0.6869</td>\n",
       "      <td>0.2575</td>\n",
       "      <td>0.6638</td>\n",
       "      <td>0.17300</td>\n",
       "      <td>2.0</td>\n",
       "      <td>0.0</td>\n",
       "    </tr>\n",
       "    <tr>\n",
       "      <th>4</th>\n",
       "      <td>843584</td>\n",
       "      <td>R</td>\n",
       "      <td>27</td>\n",
       "      <td>20.29</td>\n",
       "      <td>14.34</td>\n",
       "      <td>135.10</td>\n",
       "      <td>1297.0</td>\n",
       "      <td>0.10030</td>\n",
       "      <td>0.1328</td>\n",
       "      <td>0.1980</td>\n",
       "      <td>...</td>\n",
       "      <td>152.20</td>\n",
       "      <td>1575.0</td>\n",
       "      <td>0.1374</td>\n",
       "      <td>0.2050</td>\n",
       "      <td>0.4000</td>\n",
       "      <td>0.1625</td>\n",
       "      <td>0.2364</td>\n",
       "      <td>0.07678</td>\n",
       "      <td>3.5</td>\n",
       "      <td>0.0</td>\n",
       "    </tr>\n",
       "  </tbody>\n",
       "</table>\n",
       "<p>5 rows × 35 columns</p>\n",
       "</div>"
      ],
      "text/plain": [
       "       ID Outcome  Time  Radius Mean  Texture Mean  Perimeter Mean  Area Mean  \\\n",
       "0  119513       N    31        18.02         27.60          117.50     1013.0   \n",
       "1    8423       N    61        17.99         10.38          122.80     1001.0   \n",
       "2  842517       N   116        21.37         17.44          137.50     1373.0   \n",
       "3  843483       N   123        11.42         20.38           77.58      386.1   \n",
       "4  843584       R    27        20.29         14.34          135.10     1297.0   \n",
       "\n",
       "   Smoothness Mean  Compactness Mean  Concavity Mean        ...          \\\n",
       "0          0.09489            0.1036          0.1086        ...           \n",
       "1          0.11840            0.2776          0.3001        ...           \n",
       "2          0.08836            0.1189          0.1255        ...           \n",
       "3          0.14250            0.2839          0.2414        ...           \n",
       "4          0.10030            0.1328          0.1980        ...           \n",
       "\n",
       "   Perimeter Worst  Area Worst  Smoothness Worst  Compactness Worst  \\\n",
       "0           139.70      1436.0            0.1195             0.1926   \n",
       "1           184.60      2019.0            0.1622             0.6656   \n",
       "2           159.10      1949.0            0.1188             0.3449   \n",
       "3            98.87       567.7            0.2098             0.8663   \n",
       "4           152.20      1575.0            0.1374             0.2050   \n",
       "\n",
       "   Concavity Worst  Concave Points Worst  Symmetry Worst  \\\n",
       "0           0.3140                0.1170          0.2677   \n",
       "1           0.7119                0.2654          0.4601   \n",
       "2           0.3414                0.2032          0.4334   \n",
       "3           0.6869                0.2575          0.6638   \n",
       "4           0.4000                0.1625          0.2364   \n",
       "\n",
       "   Fractal Dimension Worst  Tumor Size  Lymph Node Status  \n",
       "0                  0.08113         5.0                5.0  \n",
       "1                  0.11890         3.0                2.0  \n",
       "2                  0.09067         2.5                0.0  \n",
       "3                  0.17300         2.0                0.0  \n",
       "4                  0.07678         3.5                0.0  \n",
       "\n",
       "[5 rows x 35 columns]"
      ]
     },
     "execution_count": 6,
     "metadata": {},
     "output_type": "execute_result"
    }
   ],
   "source": [
    "dataset.head()"
   ]
  },
  {
   "cell_type": "markdown",
   "metadata": {},
   "source": [
    "Number of rows of data present in the dataset are 198."
   ]
  },
  {
   "cell_type": "code",
   "execution_count": 7,
   "metadata": {},
   "outputs": [
    {
     "data": {
      "text/plain": [
       "(198, 35)"
      ]
     },
     "execution_count": 7,
     "metadata": {},
     "output_type": "execute_result"
    }
   ],
   "source": [
    "dataset.shape"
   ]
  },
  {
   "cell_type": "markdown",
   "metadata": {},
   "source": [
    "Checking the presence of NA values and dropping them along with the ID attribute"
   ]
  },
  {
   "cell_type": "code",
   "execution_count": 8,
   "metadata": {},
   "outputs": [
    {
     "data": {
      "text/plain": [
       "ID                         0\n",
       "Outcome                    0\n",
       "Time                       0\n",
       "Radius Mean                0\n",
       "Texture Mean               0\n",
       "Perimeter Mean             0\n",
       "Area Mean                  0\n",
       "Smoothness Mean            0\n",
       "Compactness Mean           0\n",
       "Concavity Mean             0\n",
       "Concave Points Mean        0\n",
       "Symmetry Mean              0\n",
       "Fractal Dimension Mean     0\n",
       "Radius SE                  0\n",
       "Texture SE                 0\n",
       "Perimeter SE               0\n",
       "Area SE                    0\n",
       "Smoothness SE              0\n",
       "Compactness SE             0\n",
       "Concavity SE               0\n",
       "Concave Points SE          0\n",
       "Symmetry SE                0\n",
       "Fractal Dimension SE       0\n",
       "Radius Worst               0\n",
       "Texture Worst              0\n",
       "Perimeter Worst            0\n",
       "Area Worst                 0\n",
       "Smoothness Worst           0\n",
       "Compactness Worst          0\n",
       "Concavity Worst            0\n",
       "Concave Points Worst       0\n",
       "Symmetry Worst             0\n",
       "Fractal Dimension Worst    0\n",
       "Tumor Size                 0\n",
       "Lymph Node Status          4\n",
       "dtype: int64"
      ]
     },
     "execution_count": 8,
     "metadata": {},
     "output_type": "execute_result"
    }
   ],
   "source": [
    "dataset.isna().sum()"
   ]
  },
  {
   "cell_type": "code",
   "execution_count": 9,
   "metadata": {},
   "outputs": [],
   "source": [
    "dataset = dataset.dropna()\n",
    "y = dataset['Outcome']\n",
    "drop_list = ['ID', 'Time', 'Outcome']\n",
    "dataset = dataset.drop(drop_list, 1)"
   ]
  },
  {
   "cell_type": "code",
   "execution_count": 10,
   "metadata": {},
   "outputs": [
    {
     "data": {
      "text/plain": [
       "(194, 32)"
      ]
     },
     "execution_count": 10,
     "metadata": {},
     "output_type": "execute_result"
    }
   ],
   "source": [
    "dataset.shape"
   ]
  },
  {
   "cell_type": "markdown",
   "metadata": {},
   "source": [
    "Viewing statistics related to the data attributes"
   ]
  },
  {
   "cell_type": "code",
   "execution_count": 11,
   "metadata": {},
   "outputs": [
    {
     "data": {
      "text/html": [
       "<div>\n",
       "<style scoped>\n",
       "    .dataframe tbody tr th:only-of-type {\n",
       "        vertical-align: middle;\n",
       "    }\n",
       "\n",
       "    .dataframe tbody tr th {\n",
       "        vertical-align: top;\n",
       "    }\n",
       "\n",
       "    .dataframe thead th {\n",
       "        text-align: right;\n",
       "    }\n",
       "</style>\n",
       "<table border=\"1\" class=\"dataframe\">\n",
       "  <thead>\n",
       "    <tr style=\"text-align: right;\">\n",
       "      <th></th>\n",
       "      <th>Radius Mean</th>\n",
       "      <th>Texture Mean</th>\n",
       "      <th>Perimeter Mean</th>\n",
       "      <th>Area Mean</th>\n",
       "      <th>Smoothness Mean</th>\n",
       "      <th>Compactness Mean</th>\n",
       "      <th>Concavity Mean</th>\n",
       "      <th>Concave Points Mean</th>\n",
       "      <th>Symmetry Mean</th>\n",
       "      <th>Fractal Dimension Mean</th>\n",
       "      <th>...</th>\n",
       "      <th>Perimeter Worst</th>\n",
       "      <th>Area Worst</th>\n",
       "      <th>Smoothness Worst</th>\n",
       "      <th>Compactness Worst</th>\n",
       "      <th>Concavity Worst</th>\n",
       "      <th>Concave Points Worst</th>\n",
       "      <th>Symmetry Worst</th>\n",
       "      <th>Fractal Dimension Worst</th>\n",
       "      <th>Tumor Size</th>\n",
       "      <th>Lymph Node Status</th>\n",
       "    </tr>\n",
       "  </thead>\n",
       "  <tbody>\n",
       "    <tr>\n",
       "      <th>count</th>\n",
       "      <td>194.000000</td>\n",
       "      <td>194.000000</td>\n",
       "      <td>194.000000</td>\n",
       "      <td>194.000000</td>\n",
       "      <td>194.000000</td>\n",
       "      <td>194.000000</td>\n",
       "      <td>194.000000</td>\n",
       "      <td>194.000000</td>\n",
       "      <td>194.000000</td>\n",
       "      <td>194.000000</td>\n",
       "      <td>...</td>\n",
       "      <td>194.000000</td>\n",
       "      <td>194.000000</td>\n",
       "      <td>194.000000</td>\n",
       "      <td>194.000000</td>\n",
       "      <td>194.000000</td>\n",
       "      <td>194.000000</td>\n",
       "      <td>194.000000</td>\n",
       "      <td>194.000000</td>\n",
       "      <td>194.000000</td>\n",
       "      <td>194.000000</td>\n",
       "    </tr>\n",
       "    <tr>\n",
       "      <th>mean</th>\n",
       "      <td>17.402320</td>\n",
       "      <td>22.300979</td>\n",
       "      <td>114.781495</td>\n",
       "      <td>969.092268</td>\n",
       "      <td>0.102774</td>\n",
       "      <td>0.142642</td>\n",
       "      <td>0.156309</td>\n",
       "      <td>0.086808</td>\n",
       "      <td>0.192885</td>\n",
       "      <td>0.062743</td>\n",
       "      <td>...</td>\n",
       "      <td>140.136907</td>\n",
       "      <td>1401.756701</td>\n",
       "      <td>0.143921</td>\n",
       "      <td>0.364567</td>\n",
       "      <td>0.436010</td>\n",
       "      <td>0.178449</td>\n",
       "      <td>0.322251</td>\n",
       "      <td>0.090777</td>\n",
       "      <td>2.867526</td>\n",
       "      <td>3.211340</td>\n",
       "    </tr>\n",
       "    <tr>\n",
       "      <th>std</th>\n",
       "      <td>3.171672</td>\n",
       "      <td>4.335292</td>\n",
       "      <td>21.430694</td>\n",
       "      <td>353.159959</td>\n",
       "      <td>0.012607</td>\n",
       "      <td>0.050229</td>\n",
       "      <td>0.070942</td>\n",
       "      <td>0.033962</td>\n",
       "      <td>0.027679</td>\n",
       "      <td>0.007289</td>\n",
       "      <td>...</td>\n",
       "      <td>28.826843</td>\n",
       "      <td>587.040705</td>\n",
       "      <td>0.022092</td>\n",
       "      <td>0.165528</td>\n",
       "      <td>0.174757</td>\n",
       "      <td>0.045529</td>\n",
       "      <td>0.074068</td>\n",
       "      <td>0.021371</td>\n",
       "      <td>1.950588</td>\n",
       "      <td>5.479276</td>\n",
       "    </tr>\n",
       "    <tr>\n",
       "      <th>min</th>\n",
       "      <td>10.950000</td>\n",
       "      <td>10.380000</td>\n",
       "      <td>71.900000</td>\n",
       "      <td>361.600000</td>\n",
       "      <td>0.074970</td>\n",
       "      <td>0.046050</td>\n",
       "      <td>0.023980</td>\n",
       "      <td>0.020310</td>\n",
       "      <td>0.130800</td>\n",
       "      <td>0.050250</td>\n",
       "      <td>...</td>\n",
       "      <td>85.100000</td>\n",
       "      <td>508.100000</td>\n",
       "      <td>0.081910</td>\n",
       "      <td>0.051310</td>\n",
       "      <td>0.023980</td>\n",
       "      <td>0.028990</td>\n",
       "      <td>0.156500</td>\n",
       "      <td>0.055040</td>\n",
       "      <td>0.400000</td>\n",
       "      <td>0.000000</td>\n",
       "    </tr>\n",
       "    <tr>\n",
       "      <th>25%</th>\n",
       "      <td>15.052500</td>\n",
       "      <td>19.342500</td>\n",
       "      <td>98.160000</td>\n",
       "      <td>702.525000</td>\n",
       "      <td>0.093900</td>\n",
       "      <td>0.109850</td>\n",
       "      <td>0.106075</td>\n",
       "      <td>0.063760</td>\n",
       "      <td>0.174075</td>\n",
       "      <td>0.056718</td>\n",
       "      <td>...</td>\n",
       "      <td>117.925000</td>\n",
       "      <td>940.575000</td>\n",
       "      <td>0.129325</td>\n",
       "      <td>0.247550</td>\n",
       "      <td>0.322150</td>\n",
       "      <td>0.152225</td>\n",
       "      <td>0.275950</td>\n",
       "      <td>0.076368</td>\n",
       "      <td>1.500000</td>\n",
       "      <td>0.000000</td>\n",
       "    </tr>\n",
       "    <tr>\n",
       "      <th>50%</th>\n",
       "      <td>17.290000</td>\n",
       "      <td>21.795000</td>\n",
       "      <td>113.700000</td>\n",
       "      <td>929.100000</td>\n",
       "      <td>0.102200</td>\n",
       "      <td>0.131750</td>\n",
       "      <td>0.152050</td>\n",
       "      <td>0.086075</td>\n",
       "      <td>0.189350</td>\n",
       "      <td>0.061715</td>\n",
       "      <td>...</td>\n",
       "      <td>136.500000</td>\n",
       "      <td>1295.000000</td>\n",
       "      <td>0.141750</td>\n",
       "      <td>0.350450</td>\n",
       "      <td>0.401150</td>\n",
       "      <td>0.178500</td>\n",
       "      <td>0.310300</td>\n",
       "      <td>0.086540</td>\n",
       "      <td>2.500000</td>\n",
       "      <td>1.000000</td>\n",
       "    </tr>\n",
       "    <tr>\n",
       "      <th>75%</th>\n",
       "      <td>19.580000</td>\n",
       "      <td>24.782500</td>\n",
       "      <td>129.650000</td>\n",
       "      <td>1193.500000</td>\n",
       "      <td>0.111375</td>\n",
       "      <td>0.172200</td>\n",
       "      <td>0.200500</td>\n",
       "      <td>0.103925</td>\n",
       "      <td>0.209550</td>\n",
       "      <td>0.066810</td>\n",
       "      <td>...</td>\n",
       "      <td>159.875000</td>\n",
       "      <td>1694.250000</td>\n",
       "      <td>0.154450</td>\n",
       "      <td>0.423675</td>\n",
       "      <td>0.550175</td>\n",
       "      <td>0.207125</td>\n",
       "      <td>0.358475</td>\n",
       "      <td>0.101775</td>\n",
       "      <td>3.500000</td>\n",
       "      <td>4.000000</td>\n",
       "    </tr>\n",
       "    <tr>\n",
       "      <th>max</th>\n",
       "      <td>27.220000</td>\n",
       "      <td>39.280000</td>\n",
       "      <td>182.100000</td>\n",
       "      <td>2250.000000</td>\n",
       "      <td>0.144700</td>\n",
       "      <td>0.311400</td>\n",
       "      <td>0.426800</td>\n",
       "      <td>0.201200</td>\n",
       "      <td>0.304000</td>\n",
       "      <td>0.097440</td>\n",
       "      <td>...</td>\n",
       "      <td>232.200000</td>\n",
       "      <td>3903.000000</td>\n",
       "      <td>0.222600</td>\n",
       "      <td>1.058000</td>\n",
       "      <td>1.170000</td>\n",
       "      <td>0.290300</td>\n",
       "      <td>0.663800</td>\n",
       "      <td>0.207500</td>\n",
       "      <td>10.000000</td>\n",
       "      <td>27.000000</td>\n",
       "    </tr>\n",
       "  </tbody>\n",
       "</table>\n",
       "<p>8 rows × 32 columns</p>\n",
       "</div>"
      ],
      "text/plain": [
       "       Radius Mean  Texture Mean  Perimeter Mean    Area Mean  \\\n",
       "count   194.000000    194.000000      194.000000   194.000000   \n",
       "mean     17.402320     22.300979      114.781495   969.092268   \n",
       "std       3.171672      4.335292       21.430694   353.159959   \n",
       "min      10.950000     10.380000       71.900000   361.600000   \n",
       "25%      15.052500     19.342500       98.160000   702.525000   \n",
       "50%      17.290000     21.795000      113.700000   929.100000   \n",
       "75%      19.580000     24.782500      129.650000  1193.500000   \n",
       "max      27.220000     39.280000      182.100000  2250.000000   \n",
       "\n",
       "       Smoothness Mean  Compactness Mean  Concavity Mean  Concave Points Mean  \\\n",
       "count       194.000000        194.000000      194.000000           194.000000   \n",
       "mean          0.102774          0.142642        0.156309             0.086808   \n",
       "std           0.012607          0.050229        0.070942             0.033962   \n",
       "min           0.074970          0.046050        0.023980             0.020310   \n",
       "25%           0.093900          0.109850        0.106075             0.063760   \n",
       "50%           0.102200          0.131750        0.152050             0.086075   \n",
       "75%           0.111375          0.172200        0.200500             0.103925   \n",
       "max           0.144700          0.311400        0.426800             0.201200   \n",
       "\n",
       "       Symmetry Mean  Fractal Dimension Mean        ...          \\\n",
       "count     194.000000              194.000000        ...           \n",
       "mean        0.192885                0.062743        ...           \n",
       "std         0.027679                0.007289        ...           \n",
       "min         0.130800                0.050250        ...           \n",
       "25%         0.174075                0.056718        ...           \n",
       "50%         0.189350                0.061715        ...           \n",
       "75%         0.209550                0.066810        ...           \n",
       "max         0.304000                0.097440        ...           \n",
       "\n",
       "       Perimeter Worst   Area Worst  Smoothness Worst  Compactness Worst  \\\n",
       "count       194.000000   194.000000        194.000000         194.000000   \n",
       "mean        140.136907  1401.756701          0.143921           0.364567   \n",
       "std          28.826843   587.040705          0.022092           0.165528   \n",
       "min          85.100000   508.100000          0.081910           0.051310   \n",
       "25%         117.925000   940.575000          0.129325           0.247550   \n",
       "50%         136.500000  1295.000000          0.141750           0.350450   \n",
       "75%         159.875000  1694.250000          0.154450           0.423675   \n",
       "max         232.200000  3903.000000          0.222600           1.058000   \n",
       "\n",
       "       Concavity Worst  Concave Points Worst  Symmetry Worst  \\\n",
       "count       194.000000            194.000000      194.000000   \n",
       "mean          0.436010              0.178449        0.322251   \n",
       "std           0.174757              0.045529        0.074068   \n",
       "min           0.023980              0.028990        0.156500   \n",
       "25%           0.322150              0.152225        0.275950   \n",
       "50%           0.401150              0.178500        0.310300   \n",
       "75%           0.550175              0.207125        0.358475   \n",
       "max           1.170000              0.290300        0.663800   \n",
       "\n",
       "       Fractal Dimension Worst  Tumor Size  Lymph Node Status  \n",
       "count               194.000000  194.000000         194.000000  \n",
       "mean                  0.090777    2.867526           3.211340  \n",
       "std                   0.021371    1.950588           5.479276  \n",
       "min                   0.055040    0.400000           0.000000  \n",
       "25%                   0.076368    1.500000           0.000000  \n",
       "50%                   0.086540    2.500000           1.000000  \n",
       "75%                   0.101775    3.500000           4.000000  \n",
       "max                   0.207500   10.000000          27.000000  \n",
       "\n",
       "[8 rows x 32 columns]"
      ]
     },
     "execution_count": 11,
     "metadata": {},
     "output_type": "execute_result"
    }
   ],
   "source": [
    "dataset.describe()"
   ]
  },
  {
   "cell_type": "code",
   "execution_count": 12,
   "metadata": {},
   "outputs": [
    {
     "name": "stdout",
     "output_type": "stream",
     "text": [
      "Number of Recurring Cases:  46\n",
      "Number of Non-Recurring Cases:  148\n"
     ]
    },
    {
     "data": {
      "image/png": "[encoded data removed]",
      "text/plain": [
       "<Figure size 432x288 with 1 Axes>"
      ]
     },
     "metadata": {
      "needs_background": "light"
     },
     "output_type": "display_data"
    }
   ],
   "source": [
    "ax = sns.countplot(y,label=\"Count\")\n",
    "N, R = y.value_counts()\n",
    "print('Number of Recurring Cases: ', R)\n",
    "print('Number of Non-Recurring Cases: ',N)"
   ]
  },
  {
   "cell_type": "markdown",
   "metadata": {},
   "source": [
    "THere is a class imbalance problem in the dataset which adversely affects a model's accuracy.\n",
    "\n",
    "This occurs when the number of instances of one class(non-recurring cases) in the dataset outweighs the number of instances from the other class(recurring cases)."
   ]
  },
  {
   "cell_type": "markdown",
   "metadata": {},
   "source": [
    "### We will be building three models in this tutorial\n",
    "Model 1: A baseline model. \n",
    "\n",
    "Model 2: A model with a single attribute as the predictor.\n",
    "\n",
    "Model 3: A model with basic feature engineering involved."
   ]
  },
  {
   "cell_type": "code",
   "execution_count": 13,
   "metadata": {},
   "outputs": [],
   "source": [
    "baseline_dataset = dataset"
   ]
  },
  {
   "cell_type": "code",
   "execution_count": 14,
   "metadata": {},
   "outputs": [],
   "source": [
    "single_attribute_dataset = dataset[['Radius Mean']]"
   ]
  },
  {
   "cell_type": "markdown",
   "metadata": {},
   "source": [
    "For building Model 3 let's do some analysis first."
   ]
  },
  {
   "cell_type": "markdown",
   "metadata": {},
   "source": [
    "We drop the predictors that are highly correlated with other predictors to avoid the problems associated with **multicollinearity**."
   ]
  },
  {
   "cell_type": "code",
   "execution_count": 16,
   "metadata": {},
   "outputs": [
    {
     "data": {
      "text/html": [
       "<div>\n",
       "<style scoped>\n",
       "    .dataframe tbody tr th:only-of-type {\n",
       "        vertical-align: middle;\n",
       "    }\n",
       "\n",
       "    .dataframe tbody tr th {\n",
       "        vertical-align: top;\n",
       "    }\n",
       "\n",
       "    .dataframe thead th {\n",
       "        text-align: right;\n",
       "    }\n",
       "</style>\n",
       "<table border=\"1\" class=\"dataframe\">\n",
       "  <thead>\n",
       "    <tr style=\"text-align: right;\">\n",
       "      <th></th>\n",
       "      <th>Radius Mean</th>\n",
       "      <th>Concave Points Mean</th>\n",
       "      <th>Fractal Dimension Mean</th>\n",
       "      <th>Radius Worst</th>\n",
       "      <th>Smoothness Worst</th>\n",
       "    </tr>\n",
       "  </thead>\n",
       "  <tbody>\n",
       "    <tr>\n",
       "      <th>0</th>\n",
       "      <td>18.02</td>\n",
       "      <td>0.07055</td>\n",
       "      <td>0.06333</td>\n",
       "      <td>21.63</td>\n",
       "      <td>0.1195</td>\n",
       "    </tr>\n",
       "    <tr>\n",
       "      <th>1</th>\n",
       "      <td>17.99</td>\n",
       "      <td>0.14710</td>\n",
       "      <td>0.07871</td>\n",
       "      <td>25.38</td>\n",
       "      <td>0.1622</td>\n",
       "    </tr>\n",
       "    <tr>\n",
       "      <th>2</th>\n",
       "      <td>21.37</td>\n",
       "      <td>0.08180</td>\n",
       "      <td>0.06010</td>\n",
       "      <td>24.90</td>\n",
       "      <td>0.1188</td>\n",
       "    </tr>\n",
       "    <tr>\n",
       "      <th>3</th>\n",
       "      <td>11.42</td>\n",
       "      <td>0.10520</td>\n",
       "      <td>0.09744</td>\n",
       "      <td>14.91</td>\n",
       "      <td>0.2098</td>\n",
       "    </tr>\n",
       "    <tr>\n",
       "      <th>4</th>\n",
       "      <td>20.29</td>\n",
       "      <td>0.10430</td>\n",
       "      <td>0.05883</td>\n",
       "      <td>22.54</td>\n",
       "      <td>0.1374</td>\n",
       "    </tr>\n",
       "  </tbody>\n",
       "</table>\n",
       "</div>"
      ],
      "text/plain": [
       "   Radius Mean  Concave Points Mean  Fractal Dimension Mean  Radius Worst  \\\n",
       "0        18.02              0.07055                 0.06333         21.63   \n",
       "1        17.99              0.14710                 0.07871         25.38   \n",
       "2        21.37              0.08180                 0.06010         24.90   \n",
       "3        11.42              0.10520                 0.09744         14.91   \n",
       "4        20.29              0.10430                 0.05883         22.54   \n",
       "\n",
       "   Smoothness Worst  \n",
       "0            0.1195  \n",
       "1            0.1622  \n",
       "2            0.1188  \n",
       "3            0.2098  \n",
       "4            0.1374  "
      ]
     },
     "execution_count": 16,
     "metadata": {},
     "output_type": "execute_result"
    }
   ],
   "source": [
    "drop_list = ['Texture Mean', 'Perimeter Mean', 'Area Mean','Compactness Mean', 'Smoothness Mean', 'Concavity Mean', 'Symmetry Mean',\n",
    "             'Radius SE','Perimeter SE', 'Area SE', 'Texture SE', 'Compactness SE', 'Smoothness SE', 'Concavity SE', 'Concave Points SE', 'Fractal Dimension SE', 'Symmetry SE',\n",
    "             'Area Worst','Perimeter Worst','Compactness Worst', 'Concavity Worst', 'Fractal Dimension Worst', 'Symmetry Worst',\n",
    "             'Concave Points Worst','Texture Worst','Lymph Node Status', 'Tumor Size']\n",
    "feature_engineer_dataset = dataset.drop(drop_list,axis = 1 )\n",
    "feature_engineer_dataset.head()"
   ]
  },
  {
   "cell_type": "markdown",
   "metadata": {},
   "source": [
    "We will also standardize all the features"
   ]
  },
  {
   "cell_type": "code",
   "execution_count": 17,
   "metadata": {},
   "outputs": [],
   "source": [
    "mapper = DataFrameMapper([(feature_engineer_dataset.columns, StandardScaler())])\n",
    "scaled_features = mapper.fit_transform(feature_engineer_dataset.copy(), 4)\n",
    "scaled_features_df = pd.DataFrame(scaled_features, index=feature_engineer_dataset.index, columns=feature_engineer_dataset.columns)"
   ]
  },
  {
   "cell_type": "code",
   "execution_count": 18,
   "metadata": {},
   "outputs": [
    {
     "data": {
      "text/html": [
       "<div>\n",
       "<style scoped>\n",
       "    .dataframe tbody tr th:only-of-type {\n",
       "        vertical-align: middle;\n",
       "    }\n",
       "\n",
       "    .dataframe tbody tr th {\n",
       "        vertical-align: top;\n",
       "    }\n",
       "\n",
       "    .dataframe thead th {\n",
       "        text-align: right;\n",
       "    }\n",
       "</style>\n",
       "<table border=\"1\" class=\"dataframe\">\n",
       "  <thead>\n",
       "    <tr style=\"text-align: right;\">\n",
       "      <th></th>\n",
       "      <th>Radius Mean</th>\n",
       "      <th>Concave Points Mean</th>\n",
       "      <th>Fractal Dimension Mean</th>\n",
       "      <th>Radius Worst</th>\n",
       "      <th>Smoothness Worst</th>\n",
       "    </tr>\n",
       "  </thead>\n",
       "  <tbody>\n",
       "    <tr>\n",
       "      <th>count</th>\n",
       "      <td>1.940000e+02</td>\n",
       "      <td>1.940000e+02</td>\n",
       "      <td>1.940000e+02</td>\n",
       "      <td>1.940000e+02</td>\n",
       "      <td>1.940000e+02</td>\n",
       "    </tr>\n",
       "    <tr>\n",
       "      <th>mean</th>\n",
       "      <td>-2.380684e-16</td>\n",
       "      <td>-4.486674e-16</td>\n",
       "      <td>1.831296e-16</td>\n",
       "      <td>-9.339608e-16</td>\n",
       "      <td>-1.300220e-15</td>\n",
       "    </tr>\n",
       "    <tr>\n",
       "      <th>std</th>\n",
       "      <td>1.002587e+00</td>\n",
       "      <td>1.002587e+00</td>\n",
       "      <td>1.002587e+00</td>\n",
       "      <td>1.002587e+00</td>\n",
       "      <td>1.002587e+00</td>\n",
       "    </tr>\n",
       "    <tr>\n",
       "      <th>min</th>\n",
       "      <td>-2.039623e+00</td>\n",
       "      <td>-1.963047e+00</td>\n",
       "      <td>-1.718372e+00</td>\n",
       "      <td>-1.924796e+00</td>\n",
       "      <td>-2.814177e+00</td>\n",
       "    </tr>\n",
       "    <tr>\n",
       "      <th>25%</th>\n",
       "      <td>-7.427941e-01</td>\n",
       "      <td>-6.803797e-01</td>\n",
       "      <td>-8.287653e-01</td>\n",
       "      <td>-8.031174e-01</td>\n",
       "      <td>-6.623828e-01</td>\n",
       "    </tr>\n",
       "    <tr>\n",
       "      <th>50%</th>\n",
       "      <td>-3.550499e-02</td>\n",
       "      <td>-2.162911e-02</td>\n",
       "      <td>-1.413577e-01</td>\n",
       "      <td>-1.100378e-01</td>\n",
       "      <td>-9.850966e-02</td>\n",
       "    </tr>\n",
       "    <tr>\n",
       "      <th>75%</th>\n",
       "      <td>6.883798e-01</td>\n",
       "      <td>5.053123e-01</td>\n",
       "      <td>5.594610e-01</td>\n",
       "      <td>6.468005e-01</td>\n",
       "      <td>4.778435e-01</td>\n",
       "    </tr>\n",
       "    <tr>\n",
       "      <th>max</th>\n",
       "      <td>3.103436e+00</td>\n",
       "      <td>3.376921e+00</td>\n",
       "      <td>4.772626e+00</td>\n",
       "      <td>3.338830e+00</td>\n",
       "      <td>3.570636e+00</td>\n",
       "    </tr>\n",
       "  </tbody>\n",
       "</table>\n",
       "</div>"
      ],
      "text/plain": [
       "        Radius Mean  Concave Points Mean  Fractal Dimension Mean  \\\n",
       "count  1.940000e+02         1.940000e+02            1.940000e+02   \n",
       "mean  -2.380684e-16        -4.486674e-16            1.831296e-16   \n",
       "std    1.002587e+00         1.002587e+00            1.002587e+00   \n",
       "min   -2.039623e+00        -1.963047e+00           -1.718372e+00   \n",
       "25%   -7.427941e-01        -6.803797e-01           -8.287653e-01   \n",
       "50%   -3.550499e-02        -2.162911e-02           -1.413577e-01   \n",
       "75%    6.883798e-01         5.053123e-01            5.594610e-01   \n",
       "max    3.103436e+00         3.376921e+00            4.772626e+00   \n",
       "\n",
       "       Radius Worst  Smoothness Worst  \n",
       "count  1.940000e+02      1.940000e+02  \n",
       "mean  -9.339608e-16     -1.300220e-15  \n",
       "std    1.002587e+00      1.002587e+00  \n",
       "min   -1.924796e+00     -2.814177e+00  \n",
       "25%   -8.031174e-01     -6.623828e-01  \n",
       "50%   -1.100378e-01     -9.850966e-02  \n",
       "75%    6.468005e-01      4.778435e-01  \n",
       "max    3.338830e+00      3.570636e+00  "
      ]
     },
     "execution_count": 18,
     "metadata": {},
     "output_type": "execute_result"
    }
   ],
   "source": [
    "scaled_features_df.describe()"
   ]
  },
  {
   "cell_type": "markdown",
   "metadata": {},
   "source": [
    "### Building the Logistic Regression Models"
   ]
  },
  {
   "cell_type": "code",
   "execution_count": 19,
   "metadata": {},
   "outputs": [],
   "source": [
    "def build_and_evaluate_model(x, y):\n",
    "    x_train, x_test, y_train, y_test = train_test_split(x, y, test_size=0.2, random_state=42)\n",
    "    regr = linear_model.LogisticRegression(solver = \"lbfgs\", max_iter = 2000)\n",
    "    regr.fit(x_train, y_train)\n",
    "    y_pred = regr.predict(x_test)\n",
    "    accuracy = regr.score(x_test, y_test)\n",
    "    print(\"The accuracy of the model is \" , accuracy * 100)\n",
    "    cm = confusion_matrix(y_test, y_pred)\n",
    "    sns.heatmap(cm,annot=True,fmt=\"d\")"
   ]
  },
  {
   "cell_type": "markdown",
   "metadata": {},
   "source": [
    "### Model 1 - The baseline model"
   ]
  },
  {
   "cell_type": "code",
   "execution_count": 20,
   "metadata": {},
   "outputs": [
    {
     "name": "stdout",
     "output_type": "stream",
     "text": [
      "The accuracy of the model is  84.61538461538461\n"
     ]
    },
    {
     "data": {
      "image/png": "[encoded data removed]",
      "text/plain": [
       "<Figure size 432x288 with 2 Axes>"
      ]
     },
     "metadata": {
      "needs_background": "light"
     },
     "output_type": "display_data"
    }
   ],
   "source": [
    "build_and_evaluate_model(baseline_dataset, y)"
   ]
  },
  {
   "cell_type": "markdown",
   "metadata": {},
   "source": [
    "### Model 2 - A single predictor model"
   ]
  },
  {
   "cell_type": "code",
   "execution_count": 21,
   "metadata": {},
   "outputs": [
    {
     "name": "stdout",
     "output_type": "stream",
     "text": [
      "The accuracy of the model is  82.05128205128204\n"
     ]
    },
    {
     "data": {
      "image/png": "[encoded data removed]",
      "text/plain": [
       "<Figure size 432x288 with 2 Axes>"
      ]
     },
     "metadata": {
      "needs_background": "light"
     },
     "output_type": "display_data"
    }
   ],
   "source": [
    "build_and_evaluate_model(single_attribute_dataset, y)"
   ]
  },
  {
   "cell_type": "markdown",
   "metadata": {},
   "source": [
    "### Model 3 -  A feature engineered model"
   ]
  },
  {
   "cell_type": "code",
   "execution_count": 22,
   "metadata": {},
   "outputs": [
    {
     "name": "stdout",
     "output_type": "stream",
     "text": [
      "The accuracy of the model is  89.74358974358975\n"
     ]
    },
    {
     "data": {
      "image/png": "[encoded data removed]",
      "text/plain": [
       "<Figure size 432x288 with 2 Axes>"
      ]
     },
     "metadata": {
      "needs_background": "light"
     },
     "output_type": "display_data"
    }
   ],
   "source": [
    "build_and_evaluate_model(scaled_features_df, y)"
   ]
  }
 ],
 "metadata": {
  "kernelspec": {
   "display_name": "Python 3",
   "language": "python",
   "name": "python3"
  },
  "language_info": {
   "codemirror_mode": {
    "name": "ipython",
    "version": 3
   },
   "file_extension": ".py",
   "mimetype": "text/x-python",
   "name": "python",
   "nbconvert_exporter": "python",
   "pygments_lexer": "ipython3",
   "version": "3.5.6"
  }
 },
 "nbformat": 4,
 "nbformat_minor": 2
}
